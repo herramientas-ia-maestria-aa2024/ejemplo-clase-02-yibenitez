{
 "cells": [
  {
   "cell_type": "markdown",
   "metadata": {},
   "source": [
    "### Ejercicio Spacy"
   ]
  },
  {
   "cell_type": "code",
   "execution_count": null,
   "metadata": {},
   "outputs": [],
   "source": [
    "# Instalar librerías\n",
    "!pip install spacy\n",
    "!python -m spacy download es_core_news_sm"
   ]
  },
  {
   "cell_type": "code",
   "execution_count": 2,
   "metadata": {},
   "outputs": [],
   "source": [
    "# Importar librerías\n",
    "import spacy"
   ]
  },
  {
   "cell_type": "code",
   "execution_count": 3,
   "metadata": {},
   "outputs": [],
   "source": [
    "# Cargar modelo de Spacy en español\n",
    "nlp = spacy.load(\"es_core_news_sm\")"
   ]
  },
  {
   "cell_type": "code",
   "execution_count": 14,
   "metadata": {},
   "outputs": [
    {
     "data": {
      "text/plain": [
       "str"
      ]
     },
     "execution_count": 14,
     "metadata": {},
     "output_type": "execute_result"
    }
   ],
   "source": [
    "# Leer archivo txt\n",
    "texto = open(\"discurso.txt\", \"r\", encoding=\"utf-8\").read()"
   ]
  },
  {
   "cell_type": "code",
   "execution_count": 13,
   "metadata": {},
   "outputs": [
    {
     "data": {
      "text/plain": [
       "spacy.tokens.doc.Doc"
      ]
     },
     "execution_count": 13,
     "metadata": {},
     "output_type": "execute_result"
    }
   ],
   "source": [
    "# Convertir el texto en objeto de Spacy\n",
    "documento = nlp(texto)"
   ]
  },
  {
   "cell_type": "code",
   "execution_count": 25,
   "metadata": {},
   "outputs": [
    {
     "name": "stdout",
     "output_type": "stream",
     "text": [
      "Como ya no estaba matriculado y no tenía clases obligatorias, decidí atender al curso de caligrafía para aprender cómo se hacía.\n",
      "128\n",
      "Aprendí cosas sobre el serif y tipografías sans serif, sobre los espacios variables entre letras, sobre qué hace realmente grande a una gran tipografía.\n",
      "152\n",
      "Era sutilmente bello, histórica y artísticamente, de una forma que la ciencia no puede capturar, y lo encontré fascinante.\n",
      "122\n",
      "Nada de esto tenía ni la más mínima esperanza de aplicación práctica en mi vida.\n",
      "80\n",
      "Pero diez años más tarde, cuando estábamos diseñando el primer ordenador Macintosh, todo eso volvió a mí.\n",
      "105\n",
      "Y diseñamos el Mac con eso en su esencia.\n",
      "41\n",
      "Fue el primer ordenador con tipografías bellas.\n",
      "47\n",
      "Si nunca me hubiera dejado caer por aquel curso concreto en la universidad, el Mac jamás habría tenido múltiples tipografías, ni caracteres con espaciado proporcional.\n",
      "167\n",
      "Y como Windows no hizo más que copiar el Mac, es probable que ningún ordenador personal los tuviera ahora.\n",
      "106\n",
      "Si nunca hubiera decidido dejarlo, no habría entrado en esa clase de caligrafía y los ordenadores personales no tendrían la maravillosa tipografía que poseen.\n",
      "\n",
      "159\n"
     ]
    }
   ],
   "source": [
    "# Leer cada línea del texto e imprimir\n",
    "for linea in documento.sents :\n",
    "    print(linea)\n",
    "    print(len(str(linea))) # convertir objeto Spacy a String"
   ]
  }
 ],
 "metadata": {
  "kernelspec": {
   "display_name": "Python 3",
   "language": "python",
   "name": "python3"
  },
  "language_info": {
   "codemirror_mode": {
    "name": "ipython",
    "version": 3
   },
   "file_extension": ".py",
   "mimetype": "text/x-python",
   "name": "python",
   "nbconvert_exporter": "python",
   "pygments_lexer": "ipython3",
   "version": "3.11.3"
  }
 },
 "nbformat": 4,
 "nbformat_minor": 2
}
